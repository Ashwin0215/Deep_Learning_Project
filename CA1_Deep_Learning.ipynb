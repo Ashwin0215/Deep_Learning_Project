{
  "nbformat": 4,
  "nbformat_minor": 0,
  "metadata": {
    "colab": {
      "provenance": []
    },
    "kernelspec": {
      "name": "python3",
      "display_name": "Python 3"
    },
    "language_info": {
      "name": "python"
    }
  },
  "cells": [
    {
      "cell_type": "code",
      "execution_count": null,
      "metadata": {
        "id": "VS7bS1WkCCWv"
      },
      "outputs": [],
      "source": [
        "import numpy as np\n",
        "import tensorflow\n",
        "from tensorflow import keras\n",
        "from tensorflow.keras.datasets import mnist\n",
        "from tensorflow.keras.models import Sequential\n",
        "from tensorflow.keras.layers import Dense, Flatten\n",
        "import cv2\n",
        "from PIL import Image\n",
        "import matplotlib.pyplot as plt"
      ]
    },
    {
      "cell_type": "code",
      "source": [
        "(x_train, y_train), (x_test, y_test) = horses_or_humans.load_data()\n",
        "x_train1 = x_train.astype('float32') / 255.\n",
        "x_test1 = x_test.astype('float32') / 255.\n",
        "x_train1 = x_train.reshape((len(x_train),np.prod(x_train.shape[1:])))\n",
        "x_test1 = x_test.reshape((len(x_test), np.prod(x_test.shape[1:])))\n",
        "print(x_train1.shape)\n",
        "print(x_test1.shape)"
      ],
      "metadata": {
        "colab": {
          "base_uri": "https://localhost:8080/"
        },
        "id": "ZN-2P8PuCck3",
        "outputId": "51dd2ca4-5282-4656-fd33-1264d9878e52"
      },
      "execution_count": null,
      "outputs": [
        {
          "output_type": "stream",
          "name": "stdout",
          "text": [
            "(60000, 784)\n",
            "(10000, 784)\n"
          ]
        }
      ]
    },
    {
      "cell_type": "code",
      "source": [
        "x_train1 = x_train.astype('float32') / 255.0\n",
        "x_test1 = x_test.astype('float32') / 255.0"
      ],
      "metadata": {
        "id": "R6DajfYDFJjX"
      },
      "execution_count": null,
      "outputs": []
    },
    {
      "cell_type": "code",
      "source": [
        "x_train1.shape"
      ],
      "metadata": {
        "colab": {
          "base_uri": "https://localhost:8080/"
        },
        "id": "mg1R3Hu5FKRw",
        "outputId": "9e83fd1c-d7b3-4b45-d042-6fbe288b5011"
      },
      "execution_count": null,
      "outputs": [
        {
          "output_type": "execute_result",
          "data": {
            "text/plain": [
              "(60000, 28, 28)"
            ]
          },
          "metadata": {},
          "execution_count": 61
        }
      ]
    },
    {
      "cell_type": "code",
      "source": [
        "img = Image.fromarray(x_train[1])\n",
        "plt.imshow(img)"
      ],
      "metadata": {
        "colab": {
          "base_uri": "https://localhost:8080/",
          "height": 447
        },
        "id": "KZE1ZdL9OTkR",
        "outputId": "64ef488d-400e-4f05-e5c6-bc548a12f500"
      },
      "execution_count": null,
      "outputs": [
        {
          "output_type": "execute_result",
          "data": {
            "text/plain": [
              "<matplotlib.image.AxesImage at 0x7b46b8f8ab00>"
            ]
          },
          "metadata": {},
          "execution_count": 62
        },
        {
          "output_type": "display_data",
          "data": {
            "text/plain": [
              "<Figure size 640x480 with 1 Axes>"
            ],
            "image/png": "[encoded data removed]"
          },
          "metadata": {}
        }
      ]
    },
    {
      "cell_type": "code",
      "source": [
        "num_classes = 10\n",
        "y_train = keras.utils.to_categorical(y_train, num_classes)\n",
        "y_test = keras.utils.to_categorical(y_test, num_classes)"
      ],
      "metadata": {
        "id": "7iOkUYqUOsun"
      },
      "execution_count": null,
      "outputs": []
    },
    {
      "cell_type": "code",
      "source": [
        "model=Sequential()\n",
        "model.add(Flatten(input_shape=x_train.shape[1:]))\n",
        "model.add(Dense(512, activation='relu'))\n",
        "model.add(Dense(256, activation='relu'))\n",
        "model.add(Dense(128, activation='relu'))"
      ],
      "metadata": {
        "id": "6o5ci0ypOwrQ"
      },
      "execution_count": null,
      "outputs": []
    },
    {
      "cell_type": "code",
      "source": [
        "model.add(Dense(num_classes, activation='softmax'))"
      ],
      "metadata": {
        "id": "P4xfS2lDPiHV"
      },
      "execution_count": null,
      "outputs": []
    },
    {
      "cell_type": "code",
      "source": [
        "model.compile(loss='categorical_crossentropy', optimizer='adam', metrics=['accuracy'])\n"
      ],
      "metadata": {
        "id": "EhACWnd9Posh"
      },
      "execution_count": null,
      "outputs": []
    },
    {
      "cell_type": "code",
      "source": [
        "batch_size = 256\n",
        "epochs = 10\n",
        "model.fit(x_train1, y_train, batch_size=batch_size, epochs=epochs, validation_data=(x_test, y_test))"
      ],
      "metadata": {
        "colab": {
          "base_uri": "https://localhost:8080/"
        },
        "id": "-vAl7wkjPusa",
        "outputId": "992cc884-490e-46e5-8b09-d00f2acbc006"
      },
      "execution_count": null,
      "outputs": [
        {
          "output_type": "stream",
          "name": "stdout",
          "text": [
            "Epoch 1/10\n",
            "235/235 [==============================] - 4s 16ms/step - loss: 1.0380 - accuracy: 0.8595 - val_loss: 29.6764 - val_accuracy: 0.9020\n",
            "Epoch 2/10\n",
            "235/235 [==============================] - 4s 18ms/step - loss: 0.2209 - accuracy: 0.9366 - val_loss: 19.8244 - val_accuracy: 0.9389\n",
            "Epoch 3/10\n",
            "235/235 [==============================] - 4s 16ms/step - loss: 0.1556 - accuracy: 0.9543 - val_loss: 16.5466 - val_accuracy: 0.9480\n",
            "Epoch 4/10\n",
            "235/235 [==============================] - 4s 15ms/step - loss: 0.1208 - accuracy: 0.9645 - val_loss: 15.7057 - val_accuracy: 0.9525\n",
            "Epoch 5/10\n",
            "235/235 [==============================] - 4s 19ms/step - loss: 0.0987 - accuracy: 0.9711 - val_loss: 14.1308 - val_accuracy: 0.9565\n",
            "Epoch 6/10\n",
            "235/235 [==============================] - 4s 15ms/step - loss: 0.0822 - accuracy: 0.9759 - val_loss: 12.9860 - val_accuracy: 0.9609\n",
            "Epoch 7/10\n",
            "235/235 [==============================] - 4s 15ms/step - loss: 0.0678 - accuracy: 0.9800 - val_loss: 16.8635 - val_accuracy: 0.9511\n",
            "Epoch 8/10\n",
            "235/235 [==============================] - 4s 18ms/step - loss: 0.0562 - accuracy: 0.9831 - val_loss: 18.2185 - val_accuracy: 0.9471\n",
            "Epoch 9/10\n",
            "235/235 [==============================] - 4s 16ms/step - loss: 0.0486 - accuracy: 0.9851 - val_loss: 17.7301 - val_accuracy: 0.9515\n",
            "Epoch 10/10\n",
            "235/235 [==============================] - 4s 16ms/step - loss: 0.0387 - accuracy: 0.9884 - val_loss: 20.2492 - val_accuracy: 0.9494\n"
          ]
        },
        {
          "output_type": "execute_result",
          "data": {
            "text/plain": [
              "<keras.callbacks.History at 0x7b46b8c15810>"
            ]
          },
          "metadata": {},
          "execution_count": 69
        }
      ]
    },
    {
      "cell_type": "code",
      "source": [
        "scores = model.evaluate(x_test1, y_test, verbose=1)\n",
        "print('Test loss:', scores[0])\n",
        "print('Test accuracy:', scores[1])"
      ],
      "metadata": {
        "colab": {
          "base_uri": "https://localhost:8080/"
        },
        "id": "AhfcYBofQD_K",
        "outputId": "7880a4f4-7b32-4451-eda4-76f456f3d2c8"
      },
      "execution_count": null,
      "outputs": [
        {
          "output_type": "stream",
          "name": "stdout",
          "text": [
            "313/313 [==============================] - 1s 3ms/step - loss: 0.0807 - accuracy: 0.9755\n",
            "Test loss: 0.08069916069507599\n",
            "Test accuracy: 0.9754999876022339\n"
          ]
        }
      ]
    },
    {
      "cell_type": "code",
      "source": [
        "predictions = model.predict(x_test1)\n",
        "predictions"
      ],
      "metadata": {
        "colab": {
          "base_uri": "https://localhost:8080/"
        },
        "id": "3t25LpkYQRhm",
        "outputId": "9b76ce6e-2cac-405e-ec67-6ee37124ef08"
      },
      "execution_count": null,
      "outputs": [
        {
          "output_type": "stream",
          "name": "stdout",
          "text": [
            "313/313 [==============================] - 1s 4ms/step\n"
          ]
        },
        {
          "output_type": "execute_result",
          "data": {
            "text/plain": [
              "array([[1.69241514e-06, 2.47897987e-07, 2.52944708e-04, ...,\n",
              "        9.99559879e-01, 1.01549324e-06, 6.05127161e-06],\n",
              "       [2.68423059e-06, 5.03085263e-04, 9.99052465e-01, ...,\n",
              "        4.22915818e-08, 4.99482098e-07, 1.06881635e-10],\n",
              "       [2.21071460e-07, 9.98444498e-01, 1.11607289e-04, ...,\n",
              "        9.16230201e-04, 2.17063382e-04, 7.24652182e-06],\n",
              "       ...,\n",
              "       [2.61863988e-08, 1.32700393e-08, 3.99046529e-09, ...,\n",
              "        4.03018157e-06, 9.44182432e-07, 8.69171636e-05],\n",
              "       [1.46814943e-06, 2.77516010e-09, 6.52869936e-09, ...,\n",
              "        2.08562345e-09, 2.31669110e-05, 3.48145655e-08],\n",
              "       [3.29867561e-07, 2.20277840e-08, 1.06759419e-08, ...,\n",
              "        7.89150689e-12, 3.42007742e-11, 3.95557233e-11]], dtype=float32)"
            ]
          },
          "metadata": {},
          "execution_count": 74
        }
      ]
    },
    {
      "cell_type": "code",
      "source": [
        "classes = ['horse','human']\n",
        "\n",
        "for i in range(6):\n",
        "    img = Image.fromarray(x_test[i])\n",
        "    plt.imshow(img)\n",
        "    predicted_label = np.argmax(predictions[i])\n",
        "    plt.text(0, -5, f\"Predicted: {classes[predicted_label]}\", color='red')\n",
        "    plt.axis('off')\n",
        "    plt.show()"
      ],
      "metadata": {
        "colab": {
          "base_uri": "https://localhost:8080/",
          "height": 1000
        },
        "id": "yqt80xOXQhhr",
        "outputId": "806ab93d-5ccd-4006-8d3b-8b6d91eb69db"
      },
      "execution_count": null,
      "outputs": [
        {
          "output_type": "display_data",
          "data": {
            "text/plain": [
              "<Figure size 640x480 with 1 Axes>"
            ],
            "image/png": "[encoded data removed]"
          },
          "metadata": {}
        },
        {
          "output_type": "display_data",
          "data": {
            "text/plain": [
              "<Figure size 640x480 with 1 Axes>"
            ],
            "image/png": "[encoded data removed]"
          },
          "metadata": {}
        },
        {
          "output_type": "display_data",
          "data": {
            "text/plain": [
              "<Figure size 640x480 with 1 Axes>"
            ],
            "image/png": "[encoded data removed]"
          },
          "metadata": {}
        },
        {
          "output_type": "display_data",
          "data": {
            "text/plain": [
              "<Figure size 640x480 with 1 Axes>"
            ],
            "image/png": "[encoded data removed]"
          },
          "metadata": {}
        },
        {
          "output_type": "display_data",
          "data": {
            "text/plain": [
              "<Figure size 640x480 with 1 Axes>"
            ],
            "image/png": "[encoded data removed]"
          },
          "metadata": {}
        },
        {
          "output_type": "display_data",
          "data": {
            "text/plain": [
              "<Figure size 640x480 with 1 Axes>"
            ],
            "image/png": "[encoded data removed]"
          },
          "metadata": {}
        }
      ]
    }
  ]
}
